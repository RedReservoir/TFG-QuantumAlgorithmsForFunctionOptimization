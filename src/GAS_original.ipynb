{
 "cells": [
  {
   "cell_type": "code",
   "execution_count": 1,
   "metadata": {},
   "outputs": [],
   "source": [
    "from qiskit import *\n",
    "from qiskit.visualization import plot_histogram\n",
    "\n",
    "from random import getrandbits, randint\n",
    "\n",
    "from binarycostfunction import *\n",
    "from customgates import *"
   ]
  },
  {
   "cell_type": "code",
   "execution_count": 36,
   "metadata": {},
   "outputs": [
    {
     "name": "stdout",
     "output_type": "stream",
     "text": [
      "1 * 1XXX\n",
      "2 * XXX1\n",
      "\n",
      "6 * X1X1\n",
      "3 * XXX0\n",
      "7 * X011\n",
      "-2 * XXX1\n",
      "-2 * 01X1\n",
      "\n"
     ]
    }
   ],
   "source": [
    "test_bcf = BinaryCostFunction(4)\n",
    "\n",
    "clauses = [\n",
    "    BinaryClause(\"1XXX\"),\n",
    "    BinaryClause(\"XXX1\")\n",
    "]\n",
    "\n",
    "values = [1, 2]\n",
    "\n",
    "for clause, value in zip(clauses, values):\n",
    "    test_bcf.add_clause(clause, value)\n",
    "    \n",
    "print(test_bcf)\n",
    "\n",
    "bcf1 = BinaryCostFunction(4)\n",
    "\n",
    "clauses = [\n",
    "    BinaryClause(\"X1X1\"),\n",
    "    BinaryClause(\"XXX0\"),\n",
    "    BinaryClause(\"X011\"),\n",
    "    BinaryClause(\"XXX1\"),\n",
    "    BinaryClause(\"01X1\")\n",
    "]\n",
    "\n",
    "values = [6, 3, 7, -2, -2]\n",
    "\n",
    "for clause, value in zip(clauses, values):\n",
    "    bcf1.add_clause(clause, value)\n",
    "    \n",
    "print(bcf1)"
   ]
  },
  {
   "cell_type": "code",
   "execution_count": 37,
   "metadata": {},
   "outputs": [],
   "source": [
    "def dec_to_bin(k, n):\n",
    "    bin_str = \"\"\n",
    "    for i in range(n):\n",
    "        bin_str = str(k%2) + bin_str\n",
    "        k = k//2\n",
    "    return bin_str\n",
    "\n",
    "def bin_to_dec_1(b):\n",
    "    dec = 0\n",
    "    for bi in b:\n",
    "        dec *= 2\n",
    "        dec += 1 if bi == \"1\" else 0\n",
    "    return dec\n",
    "\n",
    "def bin_to_dec_2(b):\n",
    "    dec = 0\n",
    "    l = 0\n",
    "    for bi in b:\n",
    "        dec *= 2\n",
    "        dec += 1 if bi == \"1\" else 0\n",
    "        l += 1\n",
    "    if dec >= 2**(l-1):\n",
    "        dec -= 2**l\n",
    "    return dec"
   ]
  },
  {
   "cell_type": "markdown",
   "metadata": {},
   "source": [
    "Circuit parameters:\n",
    "  - `n`: Number of qubits for the first regiter, and number of variables of the polynomial cost function.\n",
    "  - `m`: Number of qubits for the second register.\n",
    "  - `bcf`: Binary cost function to optimize"
   ]
  },
  {
   "cell_type": "code",
   "execution_count": 38,
   "metadata": {},
   "outputs": [],
   "source": [
    "statevector_sim = Aer.get_backend(\"statevector_simulator\")"
   ]
  },
  {
   "cell_type": "code",
   "execution_count": 45,
   "metadata": {},
   "outputs": [
    {
     "name": "stdout",
     "output_type": "stream",
     "text": [
      "Initial conditions: x=0011, y=   5\n",
      "Iteration    1: r= 1 x=0111, y=000111 y_val=   2 !!  bext_x=0111, best_y=   2\n",
      "Iteration    2: r= 1 x=0101, y=000100 y_val=   2     bext_x=0111, best_y=   2\n",
      "Iteration    3: r= 2 x=1111, y=000110 y_val=   4     bext_x=0111, best_y=   2\n",
      "Iteration    4: r= 3 x=0100, y=000101 y_val=   3     bext_x=0111, best_y=   2\n",
      "Iteration    5: r= 4 x=1100, y=000101 y_val=   3     bext_x=0111, best_y=   2\n",
      "Iteration    6: r= 5 x=0110, y=000101 y_val=   3     bext_x=0111, best_y=   2\n",
      "Iteration    7: r= 6 x=1001, y=000000 y_val=  -2 !!  bext_x=1001, best_y=  -2\n",
      "Iteration    8: r= 1 x=1001, y=111100 y_val=  -2     bext_x=1001, best_y=  -2\n",
      "Iteration    9: r= 2 x=0001, y=111100 y_val=  -2     bext_x=1001, best_y=  -2\n",
      "Iteration   10: r= 3 x=1000, y=000001 y_val=   3     bext_x=1001, best_y=  -2\n",
      "Iteration   11: r= 4 x=1110, y=000001 y_val=   3     bext_x=1001, best_y=  -2\n",
      "Iteration   12: r= 5 x=1011, y=000011 y_val=   5     bext_x=1001, best_y=  -2\n",
      "Iteration   13: r= 6 x=1001, y=111100 y_val=  -2     bext_x=1001, best_y=  -2\n",
      "Iteration   14: r= 7 x=0001, y=111100 y_val=  -2     bext_x=1001, best_y=  -2\n",
      "Iteration   15: r= 8 x=1101, y=000010 y_val=   4     bext_x=1001, best_y=  -2\n",
      "Iteration   16: r= 9 x=0001, y=111100 y_val=  -2     bext_x=1001, best_y=  -2\n",
      "Iteration   17: r=10 x=1001, y=111100 y_val=  -2     bext_x=1001, best_y=  -2\n",
      "Iteration   18: r=11 x=0101, y=000000 y_val=   2     bext_x=1001, best_y=  -2\n",
      "Iteration   19: r=12 x=1001, y=111100 y_val=  -2     bext_x=1001, best_y=  -2\n",
      "Iteration   20: r=13 x=1011, y=000011 y_val=   5     bext_x=1001, best_y=  -2\n",
      "Iteration   21: r=14 x=1001, y=111100 y_val=  -2     bext_x=1001, best_y=  -2\n",
      "Iteration   22: r=15 x=0001, y=111100 y_val=  -2     bext_x=1001, best_y=  -2\n",
      "Iteration   23: r=16 x=0011, y=000011 y_val=   5     bext_x=1001, best_y=  -2\n",
      "Iteration   24: r=17 x=0110, y=000001 y_val=   3     bext_x=1001, best_y=  -2\n",
      "Iteration   25: r=18 x=0000, y=000001 y_val=   3     bext_x=1001, best_y=  -2\n",
      "Iteration   26: r=19 x=0001, y=111100 y_val=  -2     bext_x=1001, best_y=  -2\n",
      "Iteration   27: r=20 x=1000, y=000001 y_val=   3     bext_x=1001, best_y=  -2\n",
      "Iteration   28: r=21 x=0110, y=000001 y_val=   3     bext_x=1001, best_y=  -2\n",
      "Iteration   29: r=22 x=0001, y=111100 y_val=  -2     bext_x=1001, best_y=  -2\n",
      "Iteration   30: r=23 x=1001, y=111100 y_val=  -2     bext_x=1001, best_y=  -2\n"
     ]
    }
   ],
   "source": [
    "n = 4\n",
    "m = 6\n",
    "bcf = bcf1\n",
    "backend = statevector_sim\n",
    "\n",
    "#------\n",
    "\n",
    "xs = [dec_to_bin(getrandbits(n), n)]\n",
    "ys = [bcf.evaluate(xs[-1])]\n",
    "rs = []\n",
    "\n",
    "print(\"Initial conditions: x={0:s}, y={1:4d}\".format(xs[-1], ys[-1]))\n",
    "#------\n",
    "\n",
    "k = 1\n",
    "i = 1\n",
    "while i <= 30:\n",
    "    \n",
    "    print(\"Iteration {0:4d}:\".format(i), end = \"\")\n",
    "    \n",
    "    #Select number of rotations randomly\n",
    "    rs.append(k)\n",
    "    \n",
    "    print(\" r={0:2d}\".format(rs[-1]), end = \"\")\n",
    "    \n",
    "    #Create and run quantum circuit\n",
    "    qc = create_GAS_circuit(m, bcf, ys[-1], rs[-1])\n",
    "    job_sim = execute(qc, backend, shots = 1)\n",
    "    result_sim = job_sim.result()\n",
    "    \n",
    "    #Retrieve read x and y\n",
    "    counts = result_sim.get_counts(qc)\n",
    "    result = list(counts.keys())[0]\n",
    "    y = result[0:m]\n",
    "    y_val = bin_to_dec_2(result[0:m]) - ys[-1]\n",
    "    x = result[m+1:m+1+n]\n",
    "    \n",
    "    print(\" x={0:s}, y={1:s} y_val={2:4d}\".format(x, y, y_val), end = \"\")\n",
    "    \n",
    "    #If y is better (smaller) than ys[-1]: Update threshold and reset k\n",
    "    #If not: Do not update threshold, increase k\n",
    "    if y_val < ys[-1]:\n",
    "        xs.append(x)\n",
    "        ys.append(y_val)\n",
    "        k = 1\n",
    "        print(\" !! \", end = \"\")\n",
    "    else:\n",
    "        xs.append(xs[-1])\n",
    "        ys.append(ys[-1])\n",
    "        k = k + 1\n",
    "        print(\"    \", end = \"\")\n",
    "    \n",
    "    print(\" bext_x={0:s}, best_y={1:4d}\".format(xs[-1], ys[-1]))\n",
    "        \n",
    "    #Update number of iterations\n",
    "    i = i + 1    "
   ]
  },
  {
   "cell_type": "code",
   "execution_count": 49,
   "metadata": {},
   "outputs": [
    {
     "name": "stdout",
     "output_type": "stream",
     "text": [
      "['0011', '0111', '0111', '0111', '0111', '0111', '0111', '1001', '1001', '1001', '1001', '1001', '1001', '1001', '1001', '1001', '1001', '1001', '1001', '1001', '1001', '1001', '1001', '1001', '1001', '1001', '1001', '1001', '1001', '1001', '1001']\n",
      "[5, 2, 2, 2, 2, 2, 2, -2, -2, -2, -2, -2, -2, -2, -2, -2, -2, -2, -2, -2, -2, -2, -2, -2, -2, -2, -2, -2, -2, -2, -2]\n"
     ]
    }
   ],
   "source": [
    "print(xs)\n",
    "print(ys)"
   ]
  }
 ],
 "metadata": {
  "kernelspec": {
   "display_name": "Python 3",
   "language": "python",
   "name": "python3"
  },
  "language_info": {
   "codemirror_mode": {
    "name": "ipython",
    "version": 3
   },
   "file_extension": ".py",
   "mimetype": "text/x-python",
   "name": "python",
   "nbconvert_exporter": "python",
   "pygments_lexer": "ipython3",
   "version": "3.8.5"
  }
 },
 "nbformat": 4,
 "nbformat_minor": 4
}
