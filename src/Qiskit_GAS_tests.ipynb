{
 "cells": [
  {
   "cell_type": "markdown",
   "metadata": {},
   "source": [
    "# TODO"
   ]
  },
  {
   "cell_type": "code",
   "execution_count": 1,
   "metadata": {},
   "outputs": [],
   "source": [
    "from qiskit import *\n",
    "from qiskit.visualization import plot_histogram\n",
    "\n",
    "from random import getrandbits, randint\n",
    "\n",
    "from binary_cost_function import *\n",
    "from custom_gas import *\n",
    "from num_base_converter import *"
   ]
  },
  {
   "cell_type": "code",
   "execution_count": null,
   "metadata": {},
   "outputs": [],
   "source": []
  },
  {
   "cell_type": "code",
   "execution_count": null,
   "metadata": {},
   "outputs": [],
   "source": []
  },
  {
   "cell_type": "code",
   "execution_count": null,
   "metadata": {},
   "outputs": [],
   "source": []
  },
  {
   "cell_type": "code",
   "execution_count": null,
   "metadata": {},
   "outputs": [],
   "source": []
  },
  {
   "cell_type": "code",
   "execution_count": null,
   "metadata": {},
   "outputs": [],
   "source": []
  },
  {
   "cell_type": "code",
   "execution_count": null,
   "metadata": {},
   "outputs": [],
   "source": []
  },
  {
   "cell_type": "code",
   "execution_count": null,
   "metadata": {},
   "outputs": [],
   "source": []
  },
  {
   "cell_type": "code",
   "execution_count": null,
   "metadata": {},
   "outputs": [],
   "source": []
  },
  {
   "cell_type": "code",
   "execution_count": null,
   "metadata": {},
   "outputs": [],
   "source": []
  },
  {
   "cell_type": "code",
   "execution_count": null,
   "metadata": {},
   "outputs": [],
   "source": []
  },
  {
   "cell_type": "code",
   "execution_count": null,
   "metadata": {},
   "outputs": [],
   "source": []
  },
  {
   "cell_type": "code",
   "execution_count": null,
   "metadata": {},
   "outputs": [],
   "source": []
  },
  {
   "cell_type": "code",
   "execution_count": 1,
   "metadata": {},
   "outputs": [],
   "source": [
    "from qiskit.aqua.algorithms import NumPyMinimumEigensolver\n",
    "from qiskit.optimization.algorithms import GroverOptimizer, MinimumEigenOptimizer\n",
    "from qiskit.optimization.problems import QuadraticProgram\n",
    "from qiskit import BasicAer\n",
    "from docplex.mp.model import Model\n",
    "from qiskit import IBMQ\n",
    "\n",
    "import numpy as np\n",
    "\n",
    "import time\n",
    "import stopit\n",
    "\n",
    "import pickle\n",
    "\n",
    "import math"
   ]
  },
  {
   "cell_type": "markdown",
   "metadata": {},
   "source": [
    "Loading both simulator and real quantum machine backends."
   ]
  },
  {
   "cell_type": "code",
   "execution_count": 2,
   "metadata": {},
   "outputs": [
    {
     "data": {
      "text/plain": [
       "\"\\n#Read credentials from file\\ncreds = {}\\nwith open('creds.txt') as f:\\n    for line in f:\\n        (key, val) = line.split()\\n        creds[key] = val\\n\\n#Sign in with account credentials\\nIBMQ.save_account(creds['API_KEY'], overwrite=True)\\nIBMQ.load_account()\\nprovider = IBMQ.get_provider(hub = 'ibm-q')\\n\\n#Real quantum machine backends\\nreal_16q_backend = provider.get_backend('ibmq_16_melbourne')\\nreal_5q_backend = provider.get_backend('ibmq_santiago')\\n\""
      ]
     },
     "execution_count": 2,
     "metadata": {},
     "output_type": "execute_result"
    }
   ],
   "source": [
    "#Quantum machine simulator backend\n",
    "sim_backend = BasicAer.get_backend('statevector_simulator')\n",
    "\n",
    "\"\"\"\n",
    "#Read credentials from file\n",
    "creds = {}\n",
    "with open('creds.txt') as f:\n",
    "    for line in f:\n",
    "        (key, val) = line.split()\n",
    "        creds[key] = val\n",
    "\n",
    "#Sign in with account credentials\n",
    "IBMQ.save_account(creds['API_KEY'], overwrite=True)\n",
    "IBMQ.load_account()\n",
    "provider = IBMQ.get_provider(hub = 'ibm-q')\n",
    "\n",
    "#Real quantum machine backends\n",
    "real_16q_backend = provider.get_backend('ibmq_16_melbourne')\n",
    "real_5q_backend = provider.get_backend('ibmq_santiago')\n",
    "\"\"\""
   ]
  },
  {
   "cell_type": "markdown",
   "metadata": {},
   "source": [
    "Creating QUBO to optimize. Chosen test QUBO will be:\n",
    "\n",
    "$$\\mathcal{C}(x) = x^{\\top} \\cdot \\begin{pmatrix}0&6&-3\\\\0&0&-1\\\\0&0&0\\end{pmatrix} \\cdot x + \\begin{pmatrix}2\\\\1\\\\-1\\end{pmatrix} \\cdot x.$$\n",
    "\n",
    "The name of the params will be:\n",
    "\n",
    "$$\n",
    "A = \\begin{pmatrix}0&6&-3\\\\0&0&-1\\\\0&0&0\\end{pmatrix};\\:\\: b^{\\top} = \\begin{pmatrix}2\\\\1\\\\-1\\end{pmatrix} \n",
    "$$"
   ]
  },
  {
   "cell_type": "code",
   "execution_count": 3,
   "metadata": {},
   "outputs": [],
   "source": [
    "A = np.array([[0.0, 6.0, -3.0],[0.0, 0.0, -1.0],[0.0, 0.0, 0.0]])\n",
    "b = np.array([2.0, 1.0, -1.0])"
   ]
  },
  {
   "cell_type": "code",
   "execution_count": 4,
   "metadata": {},
   "outputs": [
    {
     "name": "stdout",
     "output_type": "stream",
     "text": [
      "\\ This file has been generated by DOcplex\n",
      "\\ ENCODING=ISO-8859-1\n",
      "\\Problem name: CPLEX\n",
      "\n",
      "Minimize\n",
      " obj: 2 x0 + x1 - x2 + [ 12 x0*x1 - 6 x0*x2 - 2 x1*x2 ]/2\n",
      "Subject To\n",
      "\n",
      "Bounds\n",
      " 0 <= x0 <= 1\n",
      " 0 <= x1 <= 1\n",
      " 0 <= x2 <= 1\n",
      "\n",
      "Binaries\n",
      " x0 x1 x2\n",
      "End\n",
      "\n"
     ]
    }
   ],
   "source": [
    "def generate_qubo(A, b, verbose = False):\n",
    "    num_variables = A.shape[0]\n",
    "\n",
    "    qubo = QuadraticProgram()\n",
    "    for i in range(num_variables):\n",
    "        qubo.binary_var('x' + str(i))\n",
    "    qubo.minimize(linear = b, quadratic = A)\n",
    "    \n",
    "    if verbose:\n",
    "        print(qubo.export_as_lp_string())\n",
    "    \n",
    "    return qubo\n",
    "\n",
    "qubo = generate_qubo(A, b, True)"
   ]
  },
  {
   "cell_type": "markdown",
   "metadata": {},
   "source": [
    "Use brute force to check te correct result."
   ]
  },
  {
   "cell_type": "code",
   "execution_count": 5,
   "metadata": {},
   "outputs": [
    {
     "name": "stdout",
     "output_type": "stream",
     "text": [
      "x = [0, 0, 0] ---> C(x) = 0.0\n",
      "x = [1, 0, 0] ---> C(x) = 2.0\n",
      "x = [0, 1, 0] ---> C(x) = 1.0\n",
      "x = [1, 1, 0] ---> C(x) = 9.0\n",
      "x = [0, 0, 1] ---> C(x) = -1.0\n",
      "x = [1, 0, 1] ---> C(x) = -2.0\n",
      "x = [0, 1, 1] ---> C(x) = -1.0\n",
      "x = [1, 1, 1] ---> C(x) = 4.0\n",
      "   --- BEST STRING ---\n",
      "x = [1, 0, 1] ---> C(x) = -2.0\n"
     ]
    },
    {
     "data": {
      "text/plain": [
       "{'best_x': [1, 0, 1], 'best_fval': -2.0}"
      ]
     },
     "execution_count": 5,
     "metadata": {},
     "output_type": "execute_result"
    }
   ],
   "source": [
    "def next_binary(x, l):\n",
    "    x[0] += 1\n",
    "    for i in range(l-1):\n",
    "        if x[i] == 2:\n",
    "            x[i] = 0\n",
    "            x[i+1] += 1\n",
    "    x[-1] %= 2\n",
    "    return x\n",
    "\n",
    "def eval_cost(A, b, x):\n",
    "    arr_x = np.array(x)\n",
    "    return np.matmul(np.matmul(arr_x.T, A), arr_x) + np.matmul(b.T, arr_x)\n",
    "\n",
    "def solve_brute_force_qubo(A, b, verbose = False):\n",
    "    num_variables = b.size\n",
    "    x = [1] * num_variables\n",
    "    best_x = None\n",
    "    best_fval = float('inf')\n",
    "    for i in range(2 ** num_variables):\n",
    "        x = next_binary(x, num_variables)\n",
    "        fval = eval_cost(A, b, x)\n",
    "        if best_fval > fval:\n",
    "            best_fval = fval\n",
    "            best_x = x.copy()\n",
    "        if verbose:\n",
    "            print(\"x =\", x, \"---> C(x) =\", eval_cost(A, b, x))\n",
    "    if verbose:\n",
    "        print(\"   --- BEST STRING ---\")\n",
    "        print(\"x =\", best_x, \"---> C(x) =\", best_fval)\n",
    "    return {\n",
    "        \"best_x\": best_x,\n",
    "        \"best_fval\": best_fval\n",
    "    }\n",
    "\n",
    "solve_brute_force_qubo(A, b, verbose = True)"
   ]
  },
  {
   "cell_type": "markdown",
   "metadata": {},
   "source": [
    "Apply the ```Grover Optimizer``` using each of the backends with different parameters to test it."
   ]
  },
  {
   "cell_type": "code",
   "execution_count": 6,
   "metadata": {},
   "outputs": [],
   "source": [
    "@stopit.threading_timeoutable(default = None)\n",
    "def run_grover(grover_optimizer, qubo):\n",
    "    return grover_optimizer.solve(qubo)\n",
    "\n",
    "def test_grover(qubo, num_qubits, num_iterations, backend, correct_x, correct_fval, timeout_secs):\n",
    "    params = {\n",
    "        \"num_qubits\": num_qubits,\n",
    "        \"num_iterations\": num_iterations,\n",
    "    }\n",
    "    \n",
    "    try:\n",
    "        grover_optimizer = GroverOptimizer(\n",
    "            num_qubits,\n",
    "            num_iterations = num_iterations,\n",
    "            quantum_instance = backend)\n",
    "        start_time = time.time()\n",
    "        results = run_grover(grover_optimizer, qubo, timeout = timeout_secs)\n",
    "        end_time = time.time()\n",
    "    except Exception as ex:\n",
    "        return {\n",
    "            \"status\": \"Error\",\n",
    "            \"params\": params,\n",
    "            \"error_msg\": type(ex).__name__\n",
    "        }\n",
    "        \n",
    "    if results:\n",
    "        return {\n",
    "            \"status\": \"Success\" if ((results.x == correct_x).all() and results.fval == correct_fval) else \"Failure\",\n",
    "            \"params\": params,\n",
    "            \"results\": {\n",
    "                \"x\": results.x,\n",
    "                \"fval\": results.fval\n",
    "            }, \n",
    "            \"time_secs\": end_time - start_time\n",
    "        }\n",
    "    else:\n",
    "        return {\n",
    "            \"status\": \"Timeout\",\n",
    "            \"params\": params\n",
    "        }\n",
    "\n",
    "def perform_grover_tests(nums_qubits, nums_iterations, repetitions, backend, A, b, timeout_secs, verbose = False):\n",
    "    brute_force_results = solve_brute_force_qubo(A, b)\n",
    "    qubo = generate_qubo(A, b)\n",
    "    test_result_list = []\n",
    "    for num_qubits in nums_qubits:\n",
    "        for num_iterations in nums_iterations:\n",
    "            if verbose:\n",
    "                print(\"Testing {0:2d} qubits, {1:2d} iterations\".format(num_qubits, num_iterations))\n",
    "            for repetition_num in [i+1 for i in range(repetitions)]:\n",
    "                if verbose:\n",
    "                    print(\"  Repetition {0:3d}/{1:3d}... \".format(repetition_num, repetitions), end = \"\")\n",
    "                test_result = test_grover(qubo, num_qubits, num_iterations, backend, brute_force_results['best_x'], brute_force_results['best_fval'], timeout_secs)\n",
    "                test_result_list.append(test_result)\n",
    "                if verbose:\n",
    "                    print(test_result[\"status\"])\n",
    "    return test_result_list"
   ]
  },
  {
   "cell_type": "code",
   "execution_count": 7,
   "metadata": {},
   "outputs": [
    {
     "name": "stdout",
     "output_type": "stream",
     "text": [
      "Testing  3 qubits,  1 iterations\n",
      "  Repetition   1/  5... Error\n",
      "  Repetition   2/  5... Success\n",
      "  Repetition   3/  5... Failure\n",
      "  Repetition   4/  5... Success\n",
      "  Repetition   5/  5... Failure\n",
      "Testing  3 qubits,  2 iterations\n",
      "  Repetition   1/  5... Error\n",
      "  Repetition   2/  5... Failure\n",
      "  Repetition   3/  5... Error\n",
      "  Repetition   4/  5... Error\n",
      "  Repetition   5/  5... Error\n",
      "Testing  3 qubits,  3 iterations\n",
      "  Repetition   1/  5... Failure\n",
      "  Repetition   2/  5... Failure\n",
      "  Repetition   3/  5... Error\n",
      "  Repetition   4/  5... Error\n",
      "  Repetition   5/  5... Error\n",
      "Testing  3 qubits,  4 iterations\n",
      "  Repetition   1/  5... Error\n",
      "  Repetition   2/  5... Failure\n",
      "  Repetition   3/  5... Failure\n",
      "  Repetition   4/  5... Error\n",
      "  Repetition   5/  5... Error\n",
      "Testing  4 qubits,  1 iterations\n",
      "  Repetition   1/  5... Success\n",
      "  Repetition   2/  5... Success\n",
      "  Repetition   3/  5... Failure\n",
      "  Repetition   4/  5... Success\n",
      "  Repetition   5/  5... Failure\n",
      "Testing  4 qubits,  2 iterations\n",
      "  Repetition   1/  5... Error\n",
      "  Repetition   2/  5... Failure\n",
      "  Repetition   3/  5... Failure\n",
      "  Repetition   4/  5... Error\n",
      "  Repetition   5/  5... Failure\n",
      "Testing  4 qubits,  3 iterations\n",
      "  Repetition   1/  5... Error\n",
      "  Repetition   2/  5... Error\n",
      "  Repetition   3/  5... Error\n",
      "  Repetition   4/  5... Failure\n",
      "  Repetition   5/  5... Failure\n",
      "Testing  4 qubits,  4 iterations\n",
      "  Repetition   1/  5... Error\n",
      "  Repetition   2/  5... Error\n",
      "  Repetition   3/  5... Error\n",
      "  Repetition   4/  5... Error\n",
      "  Repetition   5/  5... Error\n",
      "Testing  5 qubits,  1 iterations\n",
      "  Repetition   1/  5... Failure\n",
      "  Repetition   2/  5... Failure\n",
      "  Repetition   3/  5... Failure\n",
      "  Repetition   4/  5... Failure\n",
      "  Repetition   5/  5... Failure\n",
      "Testing  5 qubits,  2 iterations\n",
      "  Repetition   1/  5... Success\n",
      "  Repetition   2/  5... Failure\n",
      "  Repetition   3/  5... Success\n",
      "  Repetition   4/  5... Failure\n",
      "  Repetition   5/  5... Success\n",
      "Testing  5 qubits,  3 iterations\n",
      "  Repetition   1/  5... Failure\n",
      "  Repetition   2/  5... Success\n",
      "  Repetition   3/  5... Success\n",
      "  Repetition   4/  5... Success\n",
      "  Repetition   5/  5... Success\n",
      "Testing  5 qubits,  4 iterations\n",
      "  Repetition   1/  5... Success\n",
      "  Repetition   2/  5... Success\n",
      "  Repetition   3/  5... Success\n",
      "  Repetition   4/  5... Success\n",
      "  Repetition   5/  5... Success\n",
      "Testing  6 qubits,  1 iterations\n",
      "  Repetition   1/  5... Failure\n",
      "  Repetition   2/  5... Failure\n",
      "  Repetition   3/  5... Failure\n",
      "  Repetition   4/  5... Failure\n",
      "  Repetition   5/  5... Failure\n",
      "Testing  6 qubits,  2 iterations\n",
      "  Repetition   1/  5... Failure\n",
      "  Repetition   2/  5... Success\n",
      "  Repetition   3/  5... Success\n",
      "  Repetition   4/  5... Success\n",
      "  Repetition   5/  5... Success\n",
      "Testing  6 qubits,  3 iterations\n",
      "  Repetition   1/  5... Success\n",
      "  Repetition   2/  5... Success\n",
      "  Repetition   3/  5... Success\n",
      "  Repetition   4/  5... Success\n",
      "  Repetition   5/  5... Success\n",
      "Testing  6 qubits,  4 iterations\n",
      "  Repetition   1/  5... Success\n",
      "  Repetition   2/  5... Success\n",
      "  Repetition   3/  5... Success\n",
      "  Repetition   4/  5... Success\n",
      "  Repetition   5/  5... Success\n",
      "Total tests: 80\n",
      "Total time elapsed: 00:09:20.158\n"
     ]
    }
   ],
   "source": [
    "start_time = time.time()\n",
    "\n",
    "nums_qubits = [3, 4, 5, 6]\n",
    "nums_iterations = [1, 2, 3, 4]\n",
    "repetitions = 5\n",
    "test_result_list = perform_grover_tests(nums_qubits, nums_iterations, repetitions, sim_backend, A, b, 60, verbose = True)\n",
    "\n",
    "end_time = time.time()\n",
    "secs = end_time - start_time\n",
    "hours = int(math.floor(secs / 3600))\n",
    "mins = int(math.floor(secs / 60))\n",
    "mills = int(1000 * round(secs - math.floor(secs), 3))\n",
    "secs = math.floor(secs % 60)\n",
    "print(\"Total tests: {0:d}\".format(len(nums_qubits) * len(nums_iterations) * repetitions))\n",
    "print(\"Total time elapsed: {0:02d}:{1:02d}:{2:02d}.{3:03d}\".format(hours, mins, secs, mills))"
   ]
  },
  {
   "cell_type": "markdown",
   "metadata": {},
   "source": [
    "Save or read results into a text file."
   ]
  },
  {
   "cell_type": "code",
   "execution_count": 8,
   "metadata": {},
   "outputs": [],
   "source": [
    "def write_results(results, filename):\n",
    "    f = open(filename, \"wb\")\n",
    "    pickle.dump(results, f)\n",
    "    f.close()\n",
    "    \n",
    "def read_results(filename):\n",
    "    f = open(filename, \"rb\")\n",
    "    results = pickle.load(f)\n",
    "    f.close()\n",
    "    return results"
   ]
  },
  {
   "cell_type": "code",
   "execution_count": 9,
   "metadata": {},
   "outputs": [],
   "source": [
    "write_results(test_result_list, \"results1.pkl\")"
   ]
  }
 ],
 "metadata": {
  "kernelspec": {
   "display_name": "Python 3",
   "language": "python",
   "name": "python3"
  },
  "language_info": {
   "codemirror_mode": {
    "name": "ipython",
    "version": 3
   },
   "file_extension": ".py",
   "mimetype": "text/x-python",
   "name": "python",
   "nbconvert_exporter": "python",
   "pygments_lexer": "ipython3",
   "version": "3.8.5"
  }
 },
 "nbformat": 4,
 "nbformat_minor": 4
}
